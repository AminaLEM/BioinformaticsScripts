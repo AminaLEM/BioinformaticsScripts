{
 "cells": [
  {
   "cell_type": "markdown",
   "id": "bf51a66b",
   "metadata": {},
   "source": [
    "# Quantitaive Analysis of Genetic Model"
   ]
  },
  {
   "cell_type": "code",
   "execution_count": 2,
   "id": "b716f656",
   "metadata": {},
   "outputs": [],
   "source": [
    "import pandas as pd\n",
    "import matplotlib.pyplot as plt\n",
    "import numpy as np\n",
    "import os"
   ]
  },
  {
   "cell_type": "markdown",
   "id": "f37196cf",
   "metadata": {},
   "source": [
    "## Downasampling analysis"
   ]
  },
  {
   "cell_type": "markdown",
   "id": "b6aceff8",
   "metadata": {},
   "source": [
    "Generate barplots showing the diffrence between th target position and the median across different seeds of downsampling in terms of LOF scores."
   ]
  },
  {
   "cell_type": "code",
   "execution_count": 47,
   "id": "0fe3c2f2",
   "metadata": {},
   "outputs": [],
   "source": [
    "def plot (ar, x_values, y_values, xerr_values=None,xlabel='', ylabel='',title ='', color ='#3288bd', path = ''):\n",
    "    \"\"\"\n",
    "    plot function plot horizontal barplots from a dataframe columns\n",
    "    \"\"\" \n",
    "    fig, axi= plt.subplots(figsize=(3,3), dpi = 300)\n",
    "    ax = ar.plot(kind = \"barh\",x=x_values, y = y_values, legend = False, title = title, xerr = xerr_values , xlabel = ylabel,ax = axi)#     barp(arr) \n",
    "    ax.set_xlabel(xlabel)\n",
    "    for s in ['top', 'right']:\n",
    "        ax.spines[s].set_visible(False)\n",
    "    plt.legend()\n",
    "    plt.show()\n",
    "#   plt.savefig(path+title ,  bbox_inches = \"tight\") \n",
    "#   plt.savefig(path+title ,  bbox_inches = \"tight\")              "
   ]
  },
  {
   "cell_type": "code",
   "execution_count": 34,
   "id": "0305ce0f",
   "metadata": {},
   "outputs": [],
   "source": [
    "path_inp ='/prj/Isabel_ONT_rRNA/Output/snakemake/18S/' # path to input as in the config file\n",
    "output = '/prj/Isabel_ONT_rRNA/Output/snakemake/18S/analysis/MinION/downsampling_scores/lof_scores/' # path to outputs\n",
    "thres = ['300','500','1000','5000', '10000'] # downsamplings coverage as set in config file\n",
    "features = ['Mis', 'Mis+Del+Ins', 'Mis+Del+Ins_Context', 'MisContext+Del+Ins']\n",
    "samples = { 'DIMT1L':1850,'DIMT1L1851':1851,'METTL5':1832, 'WBSCR22':1639} # list of analysis labels as set in the config file\n",
    "seeds =['0','1','2','3','5','6','7','8','10','11','54321','42','25102021','20211025','123456789'] # list of seeds labels as set in the config file\n",
    "baseline = 'median' # median or the top value from the first downsampling"
   ]
  },
  {
   "cell_type": "code",
   "execution_count": null,
   "id": "c7e5b838",
   "metadata": {
    "scrolled": false
   },
   "outputs": [],
   "source": [
    "for feat in features:\n",
    "    for sl in samples: \n",
    "        sample = sl.replace('DIMT1L1851','DIMT1L')\n",
    "        ar =[]\n",
    "        df =[]\n",
    "        state = True\n",
    "        for thre in thres: \n",
    "                tab = []\n",
    "                for ij in seeds:\n",
    "                    inp1 = '/prj/Isabel_ONT_rRNA/Output/snakemake/18S_'+ij+'/analysis/MinION/'+sample+ '.sampled'+thre+'/with_Parental_HCT116_Christiane_Zorbas_all_pass/'+ feat+'_lof_scores.csv'\n",
    "                    t = pd.read_csv(inp1, sep = ',',header = 0)\n",
    "                    maxi = t.sort_values('scores').reset_index(drop= True).loc[0,'scores']\n",
    "                    if baseline == 'median':\n",
    "                        median = t['scores'].median()\n",
    "                        val = t.loc[(t.pos - samples[sl])==0,'scores'].values[0]\n",
    "                        tab.append((median - val)/abs(maxi))\n",
    "                    else:\n",
    "                        if state == True: \n",
    "                            arr = t.sort_values('scores').reset_index(drop= True)\n",
    "                            ref = arr[abs(arr.pos - samples[sl]) > 4].reset_index(drop = True).loc[0,'scores']\n",
    "                            pos = arr[abs(arr.pos - samples[sl]) > 4].reset_index(drop = True).loc[0,'pos']\n",
    "                            state = False\n",
    "                        val = t.loc[(t.pos - samples[sl])==0,'scores'].values[0]\n",
    "                        tab.append((ref - val)/abs(maxi))\n",
    "                df.append([int(thre),np.mean(tab),np.std(tab)] )  \n",
    "        ar= pd.DataFrame(df, columns=['cov', 'scores', 'std'])\n",
    "        title = sample+\"(\"+str(samples[sl])+\")_median\\n \"+feat+\"_LOF\"\n",
    "        plot(ar = ar, x_values= 'cov',y_values =\"scores\", xerr_values = 'std',xlabel = 'Coverage',  ylabel ='Distance', title = title)\n"
   ]
  },
  {
   "cell_type": "markdown",
   "id": "99ea2d1d",
   "metadata": {},
   "source": [
    "Generate barplots showing the diffrence between th target position and the median in terms of combined features from JACUSA2 estimated scores."
   ]
  },
  {
   "cell_type": "code",
   "execution_count": null,
   "id": "6e55f98c",
   "metadata": {
    "scrolled": false
   },
   "outputs": [],
   "source": [
    "analysis= 'wt_ivt' # the pairwise analysis wt_ivt or ko_wt or ivt_wt\n",
    "ref = 'NR_003286_RNA18SN5_'\n",
    "for feat in features:\n",
    "    for sl in samples: \n",
    "        sample = sl.replace('DIMT1L1851','DIMT1L')\n",
    "        ar =[]\n",
    "        df =[]\n",
    "        for thre in thres: \n",
    "                tab = []\n",
    "                for ij in seeds:\n",
    "                    inp1 = '/prj/Isabel_ONT_rRNA/Output/snakemake/18S_'+ij+'/analysis/MinION/'+sample+ '.sampled'+thre+'/with_Parental_HCT116_Christiane_Zorbas_all_pass/Features_JACUSA2CALL2.csv'         \n",
    "                    t = pd.read_csv(inp1, sep = ',',header = 0)\n",
    "                    t =t.loc[t.label == analysis, :]\n",
    "                    median = t[feat].median()\n",
    "                    val = t.loc[(t.Ref_Pos == ref+ str(samples[sl])),feat].values[0]\n",
    "                    maxi = t.sort_values(feat,ascending = False ).reset_index(drop= True).loc[0,feat]\n",
    "                    mini = t.sort_values(feat,ascending = True ).reset_index(drop= True).loc[0,feat]\n",
    "                    tab.append(val - median)\n",
    "                \n",
    "                df.append([int(thre),np.mean(tab),np.std(tab)] )  \n",
    "        ar= pd.DataFrame(df, columns=['cov', feat, 'std'])\n",
    "        title = sample+\"(\"+str(samples[sl])+\")_median\\n \"+feat+\"_WTvsIVT\"\n",
    "        plot(ar = ar, x_values= 'cov',y_values = feat, xerr_values = 'std', xlabel = 'Coverage', ylabel = 'Distance', title = title)\n"
   ]
  },
  {
   "cell_type": "markdown",
   "id": "7b8ac244",
   "metadata": {},
   "source": [
    "## Analysis of Mixtures WT/KO"
   ]
  },
  {
   "cell_type": "markdown",
   "id": "e354be6a",
   "metadata": {},
   "source": [
    "Generate barplots showing the fraction of detection of target position and its neighbors as outleirs across different seeds of mixing."
   ]
  },
  {
   "cell_type": "code",
   "execution_count": 38,
   "id": "d9f4d907",
   "metadata": {},
   "outputs": [],
   "source": [
    "thres = ['0.25','0.5','0.75'] # list of mixing fraction of WT sample as set in the config file\n",
    "features = ['MisContext+Del+Ins']\n",
    "samples = { 'METTL5_Christiane_Zorbas_all_pass':1832, 'WBSCR22_Christiane_Zorbas_28S_18S_2zu1':1639} # KO sample name as set in the config file \n",
    "seeds =['1','2','3','5','6','7','8','10','11','54321','42','25102021','20211025','123456789'] # list of seeds as set in the config file"
   ]
  },
  {
   "cell_type": "code",
   "execution_count": null,
   "id": "b7d376d7",
   "metadata": {
    "scrolled": false
   },
   "outputs": [],
   "source": [
    "for feat in features:\n",
    "    for sl in samples: \n",
    "        sample = sl.split(\"_\", 1)[0]\n",
    "        ar =[]\n",
    "        df =[]\n",
    "        for thre in thres: \n",
    "                tab = pd.DataFrame([])\n",
    "                for ij in seeds:\n",
    "                    inp1 = path_inp+'analysis/MinION/'+sample+ '.sampled1000/DowS0/with_MixS'+ij+'/'+thre+'_Parental_HCT116_Christiane_Zorbas_all_pass'+sl+'/MisContext+Del+Ins_lof_scores.csv'         \n",
    "                    t = pd.read_csv(inp1, sep = ',',header = 0)\n",
    "                    t =t.loc[t.outlier == True, :]\n",
    "                    zz = t.loc[(t.pos - samples[sl])== 0,:]\n",
    "                    qq = t.loc[abs(t.pos - samples[sl]) < 3,:]\n",
    "                    tab =tab.append([[qq.shape[0]/t.shape[0],zz.shape[0],qq.shape[0]]])\n",
    "                df.append([float(thre),np.mean(tab[0]),np.mean(tab[1]),np.mean(tab[2])] )  \n",
    "        ar= pd.DataFrame(df, columns=['thre','5mer outliers fraction', 'site '+str(samples[sl]), '5mer'])\n",
    "        title =  sample+'_'+feat\n",
    "        plot(ar, x_values='thre',y_values =['5mer outliers fraction', 'site '+str(samples[sl])], xlabel = 'Modification Rate', ylabel = \"Fraction detected as outliers\", title = title)\n",
    "\n"
   ]
  },
  {
   "cell_type": "code",
   "execution_count": null,
   "id": "d2238a1b",
   "metadata": {},
   "outputs": [],
   "source": []
  }
 ],
 "metadata": {
  "kernelspec": {
   "display_name": "DirectRNA",
   "language": "python",
   "name": "directrna"
  },
  "language_info": {
   "codemirror_mode": {
    "name": "ipython",
    "version": 3
   },
   "file_extension": ".py",
   "mimetype": "text/x-python",
   "name": "python",
   "nbconvert_exporter": "python",
   "pygments_lexer": "ipython3",
   "version": "3.6.13"
  }
 },
 "nbformat": 4,
 "nbformat_minor": 5
}
