{
 "cells": [
  {
   "cell_type": "markdown",
   "id": "12605451",
   "metadata": {},
   "source": [
    "# IVT vs WT Analysis of the Genetic Model"
   ]
  },
  {
   "cell_type": "code",
   "execution_count": 1,
   "id": "b716f656",
   "metadata": {},
   "outputs": [],
   "source": [
    "import pandas as pd\n",
    "import matplotlib.pyplot as plt\n",
    "import numpy as np\n",
    "from sklearn.linear_model import LinearRegression\n",
    "from sklearn.neighbors import LocalOutlierFactor\n",
    "import os\n",
    "import math\n",
    "from bib import *"
   ]
  },
  {
   "cell_type": "markdown",
   "id": "6a0aba92",
   "metadata": {},
   "source": [
    "Gnerate BarPLots for every combination of features. Features are supposed to be already generated and added to the table of features"
   ]
  },
  {
   "cell_type": "code",
   "execution_count": 2,
   "id": "bcca1199",
   "metadata": {},
   "outputs": [],
   "source": [
    "# # Params from snakemake\n",
    "# inp1 = '../../output/snakemake/jacusa/Flongle/tetRvstetR_met/Ribozyme_teR-met_blaRvstetR-I_blaR-met_call2.out'       # WT vs IVT JACUSA CALL2 Output\n",
    "# dtype = 'min'     # MinION or Flongle\n",
    "# method = 'LOF'    # NR_003286_RNA18SN5 or NR_003287_RNA28SN5\n",
    "# ref = 'T7-tetR'       # NR_003286_RNA18SN5 or NR_003287_RNA28SN5\n",
    "# lof_thre = 0.01  # LOF contamination value\n",
    "# lof_neigh = 20 # LOF neighborhood size\n",
    "# output =  ''   # output folder\n",
    "# mod_status_file = \"../../data/tetR_blaR/mod_tetR_blaR.tsv\" # rRNA modification status file\n",
    "# target = [44, 110, 173, 288, 449, 548] \n",
    "# label ='wt_ivt'"
   ]
  },
  {
   "cell_type": "code",
   "execution_count": null,
   "id": "90402427",
   "metadata": {},
   "outputs": [],
   "source": [
    "inp1 = snakemake.input[0]       # WT vs IVT JACUSA CALL2 Output\n",
    "dtype = snakemake.params[0]     # MinION or Flongle\n",
    "method = snakemake.params[1]    # NR_003286_RNA18SN5 or NR_003287_RNA28SN5\n",
    "ref = snakemake.params[2]       # NR_003286_RNA18SN5 or NR_003287_RNA28SN5\n",
    "lof_thre = snakemake.params[3]  # LOF contamination value\n",
    "lof_neigh = snakemake.params[4] # LOF neighborhood size\n",
    "output =  snakemake.output[0]   # output folder\n",
    "mod_status_file = snakemake.params[5] # rRNA modification status file\n",
    "target = snakemake.params[6] # rRNA modification status file\n",
    "if not os.path.exists(output):\n",
    "    os.makedirs(output, exist_ok=True)\n",
    "output = output + \"/\"\n",
    "label = snakemake.params[7]"
   ]
  },
  {
   "cell_type": "code",
   "execution_count": 3,
   "id": "78748eb4",
   "metadata": {},
   "outputs": [],
   "source": [
    "    # JACUSA CALL2 features\n",
    "  \n",
    "    df0 = pd.read_csv(inp1, sep = '\\t',skiprows=1)\n",
    "    df0 = ExtractFeatures(df0)\n",
    "    #     df0.to_csv(JC2out_Features, index=False) \n",
    "    df0['Ref_Pos'] = df0[\"Ref\"]+ \"_\" + df0[\"Pos\"].astype(str) \n",
    "\n",
    "    #     # load rRNA modifications\n",
    "    #     mod = pd.read_csv(mod_file, sep = '\\t', header = None)\n",
    "    #     mod['Ref_Pos'] = mod[0]+ \"_\" + mod[2].astype(str) \n",
    "    #     mod = mod.rename(columns={3 :  'Mod'})\n",
    "\n",
    "    # load rRNA modifications status\n",
    "    mods = pd.read_csv(mod_status_file, sep = ',')\n",
    "    mods['Ref_Pos'] = mods[mods.columns[0]]+ \"_\" + mods[mods.columns[1]].astype(str) \n",
    "    #     mod_ = pd.merge(mods[['Ref_Pos','ModStatus','Status']],mod[['Ref_Pos','Mod']], on='Ref_Pos')\n",
    "    # merge features with modifications\n",
    "    df1 = pd.merge(df0,mods[['Ref_Pos','ModStatus','Status']], on='Ref_Pos')\n",
    "    df1 = df1.sort_values(by=['Ref' , 'Pos']).reset_index(drop=True)\n",
    "    \n",
    "    ### Add features in 5mer context\n",
    "    \"\"\" \n",
    "    Build the table of features in 5mer context : Mismatch, Mismatch + Insertion + Deletion, \n",
    "    Mismatch in the 5mer context + Insertion + Deletion, Mismatch + Insertion + Deletion all in the 5mer context   \n",
    "    \"\"\"\n",
    "\n",
    "    df2 = KmerFeatures(df1)\n",
    "    feat1 = df2.Mis\n",
    "    feat2 = df2.Mis + df2.Ins + df2.Del\n",
    "    feat3 = df2.SumMis + df2.Ins + df2.Del\n",
    "    feat4 = df2.SumMis + df2.SumIns +df2.SumDel\n",
    "\n",
    "    dfsave = pd.DataFrame({'label':label,'dtype':dtype,'Ref_Pos': df2['Ref_Pos'],'Ref': df2['Ref'], 'Pos':df2['Pos'],'Coverage1' : df2['Cov1'],'Coverage2' : df2['Cov2'],'Mis': feat1, 'Mis+Del+Ins': feat2\n",
    "                           , 'MisContext+Del+Ins':feat3, 'Mis+Del+Ins_Context':feat4, 'ModStatus' : df2['ModStatus'], 'Status':df2['Status'], 'Kmer' :df2['5mer'] })\n",
    "\n",
    "    # add features to the table of features\n",
    "    if 'table' in globals():\n",
    "        table = table.append(dfsave)\n",
    "    else: \n",
    "        table = dfsave"
   ]
  },
  {
   "cell_type": "code",
   "execution_count": 25,
   "id": "504342a8",
   "metadata": {},
   "outputs": [],
   "source": [
    "table.to_csv(output+'Features_JACUSA2CALL2.csv', index=False)"
   ]
  },
  {
   "cell_type": "code",
   "execution_count": null,
   "id": "19dd1f71",
   "metadata": {
    "scrolled": false
   },
   "outputs": [],
   "source": [
    "    features = ['Mis', 'Mis+Del+Ins', 'MisContext+Del+Ins','Mis+Del+Ins_Context']\n",
    "    title = label\n",
    "    for feature in features:\n",
    "        df_= table[(table[\"label\"] == label) & (table[\"Ref\"] == ref)]\n",
    "        BarPlot(df_[['Pos',feature, 'ModStatus','Status']],feature,title,target,outlier=lof_thre,neigh=lof_neigh,path = output, method = method)\n",
    "        #  only outliers are labeled here ... ax.annotate() can be used to annotate other positions of interest. "
   ]
  },
  {
   "cell_type": "code",
   "execution_count": 7,
   "id": "44c05fbe",
   "metadata": {},
   "outputs": [],
   "source": [
    "# inp1 = '../../output/snakemake/jacusa/Flongle/tetR_blaR/Ribozyme_teR-met_blaRvsRibozyme_tetR_blaR-met_call2.out'\n",
    "# df0 = pd.read_csv(inp1, sep = '\\t',skiprows=1)\n",
    "# df0= df0[df0['strand']=='+']\n",
    "# mod = pd.DataFrame([])\n",
    "# mod['Ref'] = df0['#contig']\n",
    "# mod['Position']= df0['end']\n",
    "# mod['ModStatus']= 'Unm'\n",
    "# mod['Status']= 'Unm'\n",
    "# mod"
   ]
  },
  {
   "cell_type": "code",
   "execution_count": 8,
   "id": "88a5b214",
   "metadata": {},
   "outputs": [],
   "source": [
    "# mod.to_csv(output+'mod_tetR_balR.tsv', index=False)"
   ]
  },
  {
   "cell_type": "code",
   "execution_count": null,
   "id": "d3be438c",
   "metadata": {},
   "outputs": [],
   "source": []
  },
  {
   "cell_type": "code",
   "execution_count": null,
   "id": "e3137d86",
   "metadata": {},
   "outputs": [],
   "source": []
  }
 ],
 "metadata": {
  "kernelspec": {
   "display_name": "DirectRNA",
   "language": "python",
   "name": "directrna"
  },
  "language_info": {
   "codemirror_mode": {
    "name": "ipython",
    "version": 3
   },
   "file_extension": ".py",
   "mimetype": "text/x-python",
   "name": "python",
   "nbconvert_exporter": "python",
   "pygments_lexer": "ipython3",
   "version": "3.6.13"
  }
 },
 "nbformat": 4,
 "nbformat_minor": 5
}
