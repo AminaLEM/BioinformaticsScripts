{
 "cells": [
  {
   "cell_type": "code",
   "execution_count": 1,
   "id": "b716f656",
   "metadata": {},
   "outputs": [],
   "source": [
    "import pandas as pd\n",
    "import matplotlib.pyplot as plt\n",
    "import numpy as np\n",
    "from sklearn.linear_model import LinearRegression\n",
    "from sklearn.neighbors import LocalOutlierFactor\n",
    "import os\n",
    "from bib import *"
   ]
  },
  {
   "cell_type": "markdown",
   "id": "7951c5e2",
   "metadata": {},
   "source": [
    "### Load JACUSA CALL2 features"
   ]
  },
  {
   "cell_type": "code",
   "execution_count": 19,
   "id": "dfdbadd6",
   "metadata": {},
   "outputs": [],
   "source": [
    "# Params from snakemake\n",
    "inp1 = snakemake.input[0]       # WT vs IVT JACUSA CALL2 Output\n",
    "inp2 = snakemake.input[1]       # KO vs IVT JACUSA CALL2 Output\n",
    "lof_thre = snakemake.params[0]  # LOF contamination value\n",
    "lof_neigh = snakemake.params[1] # LOF neighborhood size\n",
    "method = snakemake.params[2]    # NR_003286_RNA18SN5 or NR_003287_RNA28SN5\n",
    "mod_status_file = snakemake.params[3] # rRNA modification status file\n",
    "\n",
    "output =  snakemake.output[0] # output folder\n",
    "\n",
    "dic = dict({'control_cond1':inp1 , 'control_cond2' : inp2})\n",
    "\n",
    "if not os.path.exists(output):\n",
    "    os.makedirs(output, exist_ok=True)\n",
    "output = output + \"/\""
   ]
  },
  {
   "cell_type": "code",
   "execution_count": 10,
   "id": "a8981b90",
   "metadata": {},
   "outputs": [],
   "source": [
    "# JACUSA CALL2 features\n",
    "for key in dic:\n",
    "    \n",
    "    df0 = pd.read_csv(dic[key], sep = '\\t',skiprows=1)\n",
    "    df0 = ExtractFeatures(df0)\n",
    "#     df0.to_csv(JC2out_Features, index=False) \n",
    "    df0['Ref_Pos'] = df0[\"Ref\"]+ \"_\" + df0[\"Pos\"].astype(str) \n",
    "\n",
    "    # load rRNA modifications\n",
    "#     mod = pd.read_csv(mod_file, sep = '\\t', header = None)\n",
    "#     mod['Ref_Pos'] = mod[0]+ \"_\" + mod[2].astype(str) \n",
    "#     mod = mod.rename(columns={3 :  'Mod'})\n",
    "\n",
    "    # load rRNA modifications status\n",
    "    mods = pd.read_csv(mod_status_file, sep = ',')\n",
    "    mods['Ref_Pos'] = mods[mods.columns[0]]+ \"_\" + mods[mods.columns[1]].astype(str) \n",
    "#     mod_ = pd.merge(mods[['Ref_Pos','ModStatus','Status']],mod[['Ref_Pos','Mod']], on='Ref_Pos')\n",
    "    # merge features with modifications\n",
    "    df1 = pd.merge(df0,mods, on='Ref_Pos')\n",
    "    df1 = df1.sort_values(by=['Ref' , 'Pos']).reset_index(drop=True)\n",
    "    \n",
    "    ### Add features in 5mer context\n",
    "    \"\"\" \n",
    "    Build the table of features in 5mer context : Mismatch, Mismatch + Insertion + Deletion, \n",
    "    Mismatch in the 5mer context + Insertion + Deletion, Mismatch + Insertion + Deletion all in the 5mer context   \n",
    "    \"\"\"\n",
    "\n",
    "    df2 = KmerFeatures(df1)\n",
    "    feat1 = df2.Mis\n",
    "    feat2 = df2.Mis + df2.Ins + df2.Del\n",
    "    feat3 = df2.SumMis + df2.Ins + df2.Del\n",
    "    feat4 = df2.SumMis + df2.SumIns +df2.SumDel\n",
    "\n",
    "    dfsave = pd.DataFrame({'label':key,'Ref_Pos': df2['Ref_Pos'],'Ref': df2['Ref'], 'Pos':df2['Pos'],'Coverage' : df2['Min_cov'],'Mis': feat1, 'Mis+Del+Ins': feat2\n",
    "                           , 'MisContext+Del+Ins':feat3, 'Mis+Del+Ins_Context':feat4, 'ModStatus' : df2['ModStatus'], 'Status':df2['Status'] })\n",
    "\n",
    "    # add features to the table of features\n",
    "    if 'table' in globals():\n",
    "        table = table.append(dfsave)\n",
    "    else: \n",
    "        table = dfsave"
   ]
  },
  {
   "cell_type": "code",
   "execution_count": 27,
   "id": "71ba73dd",
   "metadata": {},
   "outputs": [],
   "source": [
    "table.to_csv(output+'Features_JACUSA2CALL2.csv', index=False)"
   ]
  },
  {
   "cell_type": "markdown",
   "id": "6a0aba92",
   "metadata": {},
   "source": [
    "Generate BarPlots for each features combination. Features are supposed to be already generated and added to the table of features"
   ]
  },
  {
   "cell_type": "code",
   "execution_count": null,
   "id": "19dd1f71",
   "metadata": {
    "scrolled": false
   },
   "outputs": [],
   "source": [
    "features = ['Mis', 'Mis+Del+Ins', 'MisContext+Del+Ins','Mis+Del+Ins_Context']\n",
    "REF =['NR_003287_RNA28SN5','NR_003286_RNA18SN5']\n",
    "for ref in REF:\n",
    "    for feature in features:\n",
    "        label1 = table['label'].unique()[0]\n",
    "        label2 = table['label'].unique()[1]\n",
    "\n",
    "        x= table[(table[\"label\"] == label1) & (table[\"Ref\"] == ref)].reset_index(drop=True)\n",
    "        y= table[(table[\"label\"] == label2) & (table[\"Ref\"] == ref)].reset_index(drop=True)\n",
    "\n",
    "        BarPlot(x[['Pos',feature, 'ModStatus','Status']],feature,label1+' ('+ref+')',outlier=lof_thre,neigh=lof_neigh,path = output)\n",
    "        BarPlot(y[['Pos',feature, 'ModStatus','Status']],feature,label2+' ('+ref+')',outlier=lof_thre,neigh=lof_neigh,path = output)\n",
    "\n",
    "#      only outliers are labeled here ... ax.annotate() can be used to annotate other positions of interest. "
   ]
  },
  {
   "cell_type": "code",
   "execution_count": null,
   "id": "4416797e",
   "metadata": {},
   "outputs": [],
   "source": []
  }
 ],
 "metadata": {
  "kernelspec": {
   "display_name": "DirectRNA",
   "language": "python",
   "name": "directrna"
  },
  "language_info": {
   "codemirror_mode": {
    "name": "ipython",
    "version": 3
   },
   "file_extension": ".py",
   "mimetype": "text/x-python",
   "name": "python",
   "nbconvert_exporter": "python",
   "pygments_lexer": "ipython3",
   "version": "3.6.13"
  }
 },
 "nbformat": 4,
 "nbformat_minor": 5
}
